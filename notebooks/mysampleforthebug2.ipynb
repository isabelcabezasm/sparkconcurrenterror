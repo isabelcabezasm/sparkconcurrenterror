{
 "cells": [
  {
   "cell_type": "code",
   "execution_count": 0,
   "metadata": {
    "application/vnd.databricks.v1+cell": {
     "cellMetadata": {
      "byteLimit": 2048000,
      "rowLimit": 10000
     },
     "inputWidgets": {},
     "nuid": "434bbe88-fca1-43cc-9d59-2e502e3fc6eb",
     "showTitle": false,
     "title": ""
    }
   },
   "outputs": [],
   "source": [
    "#  ref: https://learn.microsoft.com/en-us/azure/databricks/getting-started/connect-to-azure-storage\n",
    "#  https://learn.microsoft.com/en-us/azure/databricks/security/secrets/secret-scopes"
   ]
  },
  {
   "cell_type": "code",
   "execution_count": 0,
   "metadata": {
    "application/vnd.databricks.v1+cell": {
     "cellMetadata": {
      "byteLimit": 2048000,
      "rowLimit": 10000
     },
     "inputWidgets": {},
     "nuid": "6daeea3a-5820-4984-9b56-13a2e3700b3e",
     "showTitle": false,
     "title": ""
    }
   },
   "outputs": [],
   "source": [
    "from pyspark.sql.types import StructType, StructField, StringType\n",
    "from pyspark.sql import DataFrame\n",
    "from delta import DeltaTable\n",
    "\n",
    "from concurrent_error import main  #python library installed"
   ]
  },
  {
   "cell_type": "code",
   "execution_count": 0,
   "metadata": {
    "application/vnd.databricks.v1+cell": {
     "cellMetadata": {
      "byteLimit": 2048000,
      "rowLimit": 10000
     },
     "inputWidgets": {},
     "nuid": "04c14155-66a3-4c09-a547-8119164991e9",
     "showTitle": false,
     "title": ""
    }
   },
   "outputs": [],
   "source": [
    "service_credential = dbutils.secrets.get(scope=\"scope\",key=\"databricssample\")\n",
    "\n",
    "spark.conf.set(\"fs.azure.account.auth.type.upskilling456.dfs.core.windows.net\", \"OAuth\")\n",
    "spark.conf.set(\"fs.azure.account.oauth.provider.type.upskilling456.dfs.core.windows.net\", \"org.apache.hadoop.fs.azurebfs.oauth2.ClientCredsTokenProvider\")\n",
    "spark.conf.set(\"fs.azure.account.oauth2.client.id.upskilling456.dfs.core.windows.net\", \"027aadd5-2489-4768-93dd-6efc9042130e\")\n",
    "spark.conf.set(\"fs.azure.account.oauth2.client.secret.upskilling456.dfs.core.windows.net\", service_credential)\n",
    "spark.conf.set(\"fs.azure.account.oauth2.client.endpoint.upskilling456.dfs.core.windows.net\", \"https://login.microsoftonline.com/16b3c013-d300-468d-ac64-7eda0820b6d3/oauth2/token\")"
   ]
  },
  {
   "cell_type": "code",
   "execution_count": 0,
   "metadata": {
    "application/vnd.databricks.v1+cell": {
     "cellMetadata": {
      "byteLimit": 2048000,
      "rowLimit": 10000
     },
     "inputWidgets": {},
     "nuid": "5bef0daf-5140-44fa-852a-bb965f19cb51",
     "showTitle": false,
     "title": ""
    }
   },
   "outputs": [],
   "source": [
    "source_path_sample_1 = \"abfss://sample@upskilling456.dfs.core.windows.net/sample1.json\"\n",
    "source_path_sample_2 = \"abfss://sample@upskilling456.dfs.core.windows.net/sample2.json\"\n",
    "\n",
    "target_path = \"abfss://sample@upskilling456.dfs.core.windows.net/delta_table\""
   ]
  },
  {
   "cell_type": "code",
   "execution_count": 0,
   "metadata": {
    "application/vnd.databricks.v1+cell": {
     "cellMetadata": {
      "byteLimit": 2048000,
      "rowLimit": 10000
     },
     "inputWidgets": {},
     "nuid": "131e8ac6-2794-4c24-b9fd-606ff5a681ef",
     "showTitle": false,
     "title": ""
    }
   },
   "outputs": [],
   "source": [
    "delta_table = main.main_sample(source_path_sample_2, target_path)"
   ]
  },
  {
   "cell_type": "code",
   "execution_count": 0,
   "metadata": {
    "application/vnd.databricks.v1+cell": {
     "cellMetadata": {
      "byteLimit": 2048000,
      "rowLimit": 10000
     },
     "inputWidgets": {},
     "nuid": "727dadf5-1229-4e9b-928e-0f9ead3a80fe",
     "showTitle": false,
     "title": ""
    }
   },
   "outputs": [
    {
     "output_type": "display_data",
     "data": {
      "text/html": [
       "<style scoped>\n",
       "  .table-result-container {\n",
       "    max-height: 300px;\n",
       "    overflow: auto;\n",
       "  }\n",
       "  table, th, td {\n",
       "    border: 1px solid black;\n",
       "    border-collapse: collapse;\n",
       "  }\n",
       "  th, td {\n",
       "    padding: 5px;\n",
       "  }\n",
       "  th {\n",
       "    text-align: left;\n",
       "  }\n",
       "</style><div class='table-result-container'><table class='table-result'><thead style='background-color: white'><tr><th>user_id</th><th>name</th><th>city</th><th>country</th></tr></thead><tbody><tr><td>999</td><td>Evelyn Martinez</td><td>Cardiff</td><td>UK</td></tr><tr><td>998</td><td>Sophia Jones</td><td>Cardiff</td><td>UK</td></tr><tr><td>988</td><td>Ava Rodriguez</td><td>Cardiff</td><td>UK</td></tr><tr><td>966</td><td>Mia Smith</td><td>Cardiff</td><td>UK</td></tr><tr><td>964</td><td>Ava Brown</td><td>Cardiff</td><td>UK</td></tr><tr><td>956</td><td>Ava Davis</td><td>Cardiff</td><td>UK</td></tr><tr><td>954</td><td>Isabella Jones</td><td>Cardiff</td><td>UK</td></tr><tr><td>953</td><td>Olivia Johnson</td><td>Cardiff</td><td>UK</td></tr><tr><td>944</td><td>Emma Davis</td><td>Cardiff</td><td>UK</td></tr><tr><td>933</td><td>Ava Williams</td><td>Cardiff</td><td>UK</td></tr></tbody></table></div>"
      ]
     },
     "metadata": {
      "application/vnd.databricks.v1+output": {
       "addedWidgets": {},
       "aggData": [],
       "aggError": "",
       "aggOverflow": false,
       "aggSchema": [],
       "aggSeriesLimitReached": false,
       "aggType": "",
       "arguments": {},
       "columnCustomDisplayInfos": {},
       "data": [
        [
         "999",
         "Evelyn Martinez",
         "Cardiff",
         "UK"
        ],
        [
         "998",
         "Sophia Jones",
         "Cardiff",
         "UK"
        ],
        [
         "988",
         "Ava Rodriguez",
         "Cardiff",
         "UK"
        ],
        [
         "966",
         "Mia Smith",
         "Cardiff",
         "UK"
        ],
        [
         "964",
         "Ava Brown",
         "Cardiff",
         "UK"
        ],
        [
         "956",
         "Ava Davis",
         "Cardiff",
         "UK"
        ],
        [
         "954",
         "Isabella Jones",
         "Cardiff",
         "UK"
        ],
        [
         "953",
         "Olivia Johnson",
         "Cardiff",
         "UK"
        ],
        [
         "944",
         "Emma Davis",
         "Cardiff",
         "UK"
        ],
        [
         "933",
         "Ava Williams",
         "Cardiff",
         "UK"
        ]
       ],
       "datasetInfos": [],
       "dbfsResultPath": null,
       "isJsonSchema": true,
       "metadata": {},
       "overflow": false,
       "plotOptions": {
        "customPlotOptions": {},
        "displayType": "table",
        "pivotAggregation": null,
        "pivotColumns": null,
        "xColumns": null,
        "yColumns": null
       },
       "removedWidgets": [],
       "schema": [
        {
         "metadata": "{}",
         "name": "user_id",
         "type": "\"string\""
        },
        {
         "metadata": "{}",
         "name": "name",
         "type": "\"string\""
        },
        {
         "metadata": "{}",
         "name": "city",
         "type": "\"string\""
        },
        {
         "metadata": "{}",
         "name": "country",
         "type": "\"string\""
        }
       ],
       "type": "table"
      }
     },
     "output_type": "display_data"
    }
   ],
   "source": [
    "delta_table.toDF().limit(10).display()"
   ]
  }
 ],
 "metadata": {
  "application/vnd.databricks.v1+notebook": {
   "dashboards": [],
   "language": "python",
   "notebookMetadata": {
    "mostRecentlyExecutedCommandWithImplicitDF": {
     "commandId": 249223884034554,
     "dataframes": [
      "_sqldf"
     ]
    },
    "pythonIndentUnit": 4
   },
   "notebookName": "mysampleforthebug2",
   "widgets": {}
  }
 },
 "nbformat": 4,
 "nbformat_minor": 0
}
