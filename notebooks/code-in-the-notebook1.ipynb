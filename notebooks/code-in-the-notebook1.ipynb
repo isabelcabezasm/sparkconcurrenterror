{
 "cells": [
  {
   "cell_type": "code",
   "execution_count": 0,
   "metadata": {
    "application/vnd.databricks.v1+cell": {
     "cellMetadata": {
      "byteLimit": 2048000,
      "rowLimit": 10000
     },
     "inputWidgets": {},
     "nuid": "434bbe88-fca1-43cc-9d59-2e502e3fc6eb",
     "showTitle": false,
     "title": ""
    }
   },
   "outputs": [],
   "source": [
    "#  ref: https://learn.microsoft.com/en-us/azure/databricks/getting-started/connect-to-azure-storage\n",
    "#  https://learn.microsoft.com/en-us/azure/databricks/security/secrets/secret-scopes"
   ]
  },
  {
   "cell_type": "code",
   "execution_count": 0,
   "metadata": {
    "application/vnd.databricks.v1+cell": {
     "cellMetadata": {
      "byteLimit": 2048000,
      "rowLimit": 10000
     },
     "inputWidgets": {},
     "nuid": "6daeea3a-5820-4984-9b56-13a2e3700b3e",
     "showTitle": false,
     "title": ""
    }
   },
   "outputs": [],
   "source": [
    "from pyspark.sql.types import StructType, StructField, StringType\n",
    "from pyspark.sql import DataFrame\n",
    "from delta import DeltaTable"
   ]
  },
  {
   "cell_type": "code",
   "execution_count": 0,
   "metadata": {
    "application/vnd.databricks.v1+cell": {
     "cellMetadata": {
      "byteLimit": 2048000,
      "rowLimit": 10000
     },
     "inputWidgets": {},
     "nuid": "04c14155-66a3-4c09-a547-8119164991e9",
     "showTitle": false,
     "title": ""
    }
   },
   "outputs": [],
   "source": [
    "service_credential = dbutils.secrets.get(scope=\"scope\",key=\"databricssample\")\n",
    "\n",
    "spark.conf.set(\"fs.azure.account.auth.type.upskilling456.dfs.core.windows.net\", \"OAuth\")\n",
    "spark.conf.set(\"fs.azure.account.oauth.provider.type.upskilling456.dfs.core.windows.net\", \"org.apache.hadoop.fs.azurebfs.oauth2.ClientCredsTokenProvider\")\n",
    "spark.conf.set(\"fs.azure.account.oauth2.client.id.upskilling456.dfs.core.windows.net\", \"027aadd5-2489-4768-93dd-6efc9042130e\")\n",
    "spark.conf.set(\"fs.azure.account.oauth2.client.secret.upskilling456.dfs.core.windows.net\", service_credential)\n",
    "spark.conf.set(\"fs.azure.account.oauth2.client.endpoint.upskilling456.dfs.core.windows.net\", \"https://login.microsoftonline.com/16b3c013-d300-468d-ac64-7eda0820b6d3/oauth2/token\")"
   ]
  },
  {
   "cell_type": "code",
   "execution_count": 0,
   "metadata": {
    "application/vnd.databricks.v1+cell": {
     "cellMetadata": {
      "byteLimit": 2048000,
      "rowLimit": 10000
     },
     "inputWidgets": {},
     "nuid": "5bef0daf-5140-44fa-852a-bb965f19cb51",
     "showTitle": false,
     "title": ""
    }
   },
   "outputs": [],
   "source": [
    "source_path_sample_1 = \"abfss://sample@upskilling456.dfs.core.windows.net/sample1.json\"\n",
    "source_path_sample_2 = \"abfss://sample@upskilling456.dfs.core.windows.net/sample2.json\"\n",
    "\n",
    "target_path = \"abfss://sample@upskilling456.dfs.core.windows.net/delta_table\""
   ]
  },
  {
   "cell_type": "code",
   "execution_count": 0,
   "metadata": {
    "application/vnd.databricks.v1+cell": {
     "cellMetadata": {
      "byteLimit": 2048000,
      "rowLimit": 10000
     },
     "inputWidgets": {},
     "nuid": "51579c91-cf3f-42fd-b7bb-c332d506253b",
     "showTitle": false,
     "title": ""
    }
   },
   "outputs": [],
   "source": [
    "# define schema\n",
    "schema = StructType([\n",
    "        StructField(\"user_id\", StringType(), nullable=False),\n",
    "        StructField(\"name\", StringType(), nullable=False),\n",
    "        StructField(\"city\", StringType(), nullable=False),\n",
    "        StructField(\"country\", StringType(), nullable=False),\n",
    "    ])"
   ]
  },
  {
   "cell_type": "code",
   "execution_count": 0,
   "metadata": {
    "application/vnd.databricks.v1+cell": {
     "cellMetadata": {
      "byteLimit": 2048000,
      "rowLimit": 10000
     },
     "inputWidgets": {},
     "nuid": "01159267-9e31-4d3c-9baf-cd4e3d6d5af9",
     "showTitle": false,
     "title": ""
    }
   },
   "outputs": [],
   "source": [
    "\n",
    "\n",
    "#country = USA\n",
    "data_frame_sample_1 = (spark.read.format(\"JSON\")\n",
    "                        .schema(schema)                     \n",
    "                        .option(\"multiline\", True)\n",
    "                        .load(source_path_sample_1)\n",
    "                ).cache()\n",
    "\n",
    "#country = UK\n",
    "data_frame_sample_2 = (spark.read.format(\"JSON\")\n",
    "                        .schema(schema)                     \n",
    "                        .option(\"multiline\", True)\n",
    "                        .load(source_path_sample_2)\n",
    "                ).cache()\n"
   ]
  },
  {
   "cell_type": "code",
   "execution_count": 0,
   "metadata": {
    "application/vnd.databricks.v1+cell": {
     "cellMetadata": {
      "byteLimit": 2048000,
      "rowLimit": 10000
     },
     "inputWidgets": {},
     "nuid": "3fbd9970-d3db-4bdf-99d1-ac8f2ae00a11",
     "showTitle": false,
     "title": ""
    }
   },
   "outputs": [
    {
     "output_type": "display_data",
     "data": {
      "text/html": [
       "<style scoped>\n",
       "  .table-result-container {\n",
       "    max-height: 300px;\n",
       "    overflow: auto;\n",
       "  }\n",
       "  table, th, td {\n",
       "    border: 1px solid black;\n",
       "    border-collapse: collapse;\n",
       "  }\n",
       "  th, td {\n",
       "    padding: 5px;\n",
       "  }\n",
       "  th {\n",
       "    text-align: left;\n",
       "  }\n",
       "</style><div class='table-result-container'><table class='table-result'><thead style='background-color: white'><tr><th>user_id</th><th>name</th><th>city</th><th>country</th></tr></thead><tbody><tr><td>1</td><td>Isabella Martinez</td><td>San Diego</td><td>USA</td></tr><tr><td>2</td><td>Olivia Johnson</td><td>Philadelphia</td><td>USA</td></tr><tr><td>3</td><td>Mia Davis</td><td>Houston</td><td>USA</td></tr><tr><td>4</td><td>Isabella Miller</td><td>Philadelphia</td><td>USA</td></tr><tr><td>5</td><td>Evelyn Rodriguez</td><td>Dallas</td><td>USA</td></tr></tbody></table></div>"
      ]
     },
     "metadata": {
      "application/vnd.databricks.v1+output": {
       "addedWidgets": {},
       "aggData": [],
       "aggError": "",
       "aggOverflow": false,
       "aggSchema": [],
       "aggSeriesLimitReached": false,
       "aggType": "",
       "arguments": {},
       "columnCustomDisplayInfos": {},
       "data": [
        [
         "1",
         "Isabella Martinez",
         "San Diego",
         "USA"
        ],
        [
         "2",
         "Olivia Johnson",
         "Philadelphia",
         "USA"
        ],
        [
         "3",
         "Mia Davis",
         "Houston",
         "USA"
        ],
        [
         "4",
         "Isabella Miller",
         "Philadelphia",
         "USA"
        ],
        [
         "5",
         "Evelyn Rodriguez",
         "Dallas",
         "USA"
        ]
       ],
       "datasetInfos": [],
       "dbfsResultPath": null,
       "isJsonSchema": true,
       "metadata": {},
       "overflow": false,
       "plotOptions": {
        "customPlotOptions": {},
        "displayType": "table",
        "pivotAggregation": null,
        "pivotColumns": null,
        "xColumns": null,
        "yColumns": null
       },
       "removedWidgets": [],
       "schema": [
        {
         "metadata": "{}",
         "name": "user_id",
         "type": "\"string\""
        },
        {
         "metadata": "{}",
         "name": "name",
         "type": "\"string\""
        },
        {
         "metadata": "{}",
         "name": "city",
         "type": "\"string\""
        },
        {
         "metadata": "{}",
         "name": "country",
         "type": "\"string\""
        }
       ],
       "type": "table"
      }
     },
     "output_type": "display_data"
    }
   ],
   "source": [
    "data_frame_sample_1.limit(5).display()"
   ]
  },
  {
   "cell_type": "code",
   "execution_count": 0,
   "metadata": {
    "application/vnd.databricks.v1+cell": {
     "cellMetadata": {
      "byteLimit": 2048000,
      "rowLimit": 10000
     },
     "inputWidgets": {},
     "nuid": "7ee3fd34-2437-4a39-a48b-b9ec686d2ab3",
     "showTitle": false,
     "title": ""
    }
   },
   "outputs": [
    {
     "output_type": "display_data",
     "data": {
      "text/html": [
       "<style scoped>\n",
       "  .table-result-container {\n",
       "    max-height: 300px;\n",
       "    overflow: auto;\n",
       "  }\n",
       "  table, th, td {\n",
       "    border: 1px solid black;\n",
       "    border-collapse: collapse;\n",
       "  }\n",
       "  th, td {\n",
       "    padding: 5px;\n",
       "  }\n",
       "  th {\n",
       "    text-align: left;\n",
       "  }\n",
       "</style><div class='table-result-container'><table class='table-result'><thead style='background-color: white'><tr><th>user_id</th><th>name</th><th>city</th><th>country</th></tr></thead><tbody><tr><td>1</td><td>Emma Rodriguez</td><td>London</td><td>UK</td></tr><tr><td>2</td><td>Evelyn Davis</td><td>Edinburgh</td><td>UK</td></tr><tr><td>3</td><td>Evelyn Johnson</td><td>Manchester</td><td>UK</td></tr><tr><td>4</td><td>Amelia Smith</td><td>Glasgow</td><td>UK</td></tr><tr><td>5</td><td>Amelia Miller</td><td>Glasgow</td><td>UK</td></tr></tbody></table></div>"
      ]
     },
     "metadata": {
      "application/vnd.databricks.v1+output": {
       "addedWidgets": {},
       "aggData": [],
       "aggError": "",
       "aggOverflow": false,
       "aggSchema": [],
       "aggSeriesLimitReached": false,
       "aggType": "",
       "arguments": {},
       "columnCustomDisplayInfos": {},
       "data": [
        [
         "1",
         "Emma Rodriguez",
         "London",
         "UK"
        ],
        [
         "2",
         "Evelyn Davis",
         "Edinburgh",
         "UK"
        ],
        [
         "3",
         "Evelyn Johnson",
         "Manchester",
         "UK"
        ],
        [
         "4",
         "Amelia Smith",
         "Glasgow",
         "UK"
        ],
        [
         "5",
         "Amelia Miller",
         "Glasgow",
         "UK"
        ]
       ],
       "datasetInfos": [],
       "dbfsResultPath": null,
       "isJsonSchema": true,
       "metadata": {},
       "overflow": false,
       "plotOptions": {
        "customPlotOptions": {},
        "displayType": "table",
        "pivotAggregation": null,
        "pivotColumns": null,
        "xColumns": null,
        "yColumns": null
       },
       "removedWidgets": [],
       "schema": [
        {
         "metadata": "{}",
         "name": "user_id",
         "type": "\"string\""
        },
        {
         "metadata": "{}",
         "name": "name",
         "type": "\"string\""
        },
        {
         "metadata": "{}",
         "name": "city",
         "type": "\"string\""
        },
        {
         "metadata": "{}",
         "name": "country",
         "type": "\"string\""
        }
       ],
       "type": "table"
      }
     },
     "output_type": "display_data"
    }
   ],
   "source": [
    "data_frame_sample_2.limit(5).display()"
   ]
  },
  {
   "cell_type": "code",
   "execution_count": 0,
   "metadata": {
    "application/vnd.databricks.v1+cell": {
     "cellMetadata": {
      "byteLimit": 2048000,
      "rowLimit": 10000
     },
     "inputWidgets": {},
     "nuid": "49cf19bc-b8a6-488f-b0ba-7f2671eddc30",
     "showTitle": false,
     "title": ""
    }
   },
   "outputs": [
    {
     "output_type": "stream",
     "name": "stdout",
     "output_type": "stream",
     "text": [
      "Out[14]: <delta.tables.DeltaTable at 0x7fe3300c62b0>"
     ]
    }
   ],
   "source": [
    "# Create one delta table with two partitions\n",
    "\n",
    "partition_by = [\"country\", \"city\"]\n",
    "\n",
    "delta_table = (DeltaTable.createIfNotExists()\n",
    "               .addColumns(schema)\n",
    "               .partitionedBy(partition_by)\n",
    "               .location(target_path).execute())\n",
    "delta_table"
   ]
  },
  {
   "cell_type": "code",
   "execution_count": 0,
   "metadata": {
    "application/vnd.databricks.v1+cell": {
     "cellMetadata": {
      "byteLimit": 2048000,
      "rowLimit": 10000
     },
     "inputWidgets": {},
     "nuid": "d5ff382e-eb9a-429f-8879-7587e8b1fcd0",
     "showTitle": false,
     "title": ""
    }
   },
   "outputs": [
    {
     "output_type": "stream",
     "name": "stdout",
     "output_type": "stream",
     "text": [
      "target.user_id = source.user_id and                target.city = source.city and                target.country = 'UK'\n"
     ]
    }
   ],
   "source": [
    "# merge \n",
    "\n",
    "target_table_alias = \"target\"\n",
    "source_table_alias = \"source\"\n",
    "\n",
    "country = \"UK\"\n",
    "\n",
    "conditions = (f\"{target_table_alias}.user_id = {source_table_alias}.user_id and \\\n",
    "               {target_table_alias}.city = {source_table_alias}.city and \\\n",
    "               {target_table_alias}.country = '{country}'\")\n",
    "\n",
    "print(conditions)"
   ]
  },
  {
   "cell_type": "code",
   "execution_count": 0,
   "metadata": {
    "application/vnd.databricks.v1+cell": {
     "cellMetadata": {
      "byteLimit": 2048000,
      "rowLimit": 10000
     },
     "inputWidgets": {},
     "nuid": "a690ee15-b673-4956-b132-2ff56ef8956e",
     "showTitle": false,
     "title": ""
    }
   },
   "outputs": [],
   "source": [
    "delta_merge_builder = (delta_table\n",
    "                        .alias(target_table_alias)\n",
    "                        .merge(\n",
    "                            data_frame_sample_1.alias(source_table_alias),\n",
    "                            condition = conditions\n",
    "                        )\n",
    "                        .whenMatchedUpdateAll()\n",
    "                        .whenNotMatchedInsertAll()\n",
    "                        .whenNotMatchedBySourceDelete()\n",
    "                        )\n",
    "\n",
    "delta_merge_builder.execute()"
   ]
  },
  {
   "cell_type": "code",
   "execution_count": 0,
   "metadata": {
    "application/vnd.databricks.v1+cell": {
     "cellMetadata": {
      "byteLimit": 2048000,
      "rowLimit": 10000
     },
     "inputWidgets": {},
     "nuid": "727dadf5-1229-4e9b-928e-0f9ead3a80fe",
     "showTitle": false,
     "title": ""
    }
   },
   "outputs": [
    {
     "output_type": "display_data",
     "data": {
      "text/html": [
       "<style scoped>\n",
       "  .table-result-container {\n",
       "    max-height: 300px;\n",
       "    overflow: auto;\n",
       "  }\n",
       "  table, th, td {\n",
       "    border: 1px solid black;\n",
       "    border-collapse: collapse;\n",
       "  }\n",
       "  th, td {\n",
       "    padding: 5px;\n",
       "  }\n",
       "  th {\n",
       "    text-align: left;\n",
       "  }\n",
       "</style><div class='table-result-container'><table class='table-result'><thead style='background-color: white'><tr><th>user_id</th><th>name</th><th>city</th><th>country</th></tr></thead><tbody><tr><td>3</td><td>Evelyn Johnson</td><td>Manchester</td><td>UK</td></tr><tr><td>15</td><td>Evelyn Martinez</td><td>Manchester</td><td>UK</td></tr><tr><td>23</td><td>Ava Jones</td><td>Manchester</td><td>UK</td></tr><tr><td>47</td><td>Olivia Johnson</td><td>Manchester</td><td>UK</td></tr><tr><td>56</td><td>Evelyn Johnson</td><td>Manchester</td><td>UK</td></tr><tr><td>68</td><td>Harper Miller</td><td>Manchester</td><td>UK</td></tr><tr><td>69</td><td>Olivia Johnson</td><td>Manchester</td><td>UK</td></tr><tr><td>71</td><td>Evelyn Rodriguez</td><td>Manchester</td><td>UK</td></tr><tr><td>91</td><td>Olivia Jones</td><td>Manchester</td><td>UK</td></tr><tr><td>106</td><td>Olivia Davis</td><td>Manchester</td><td>UK</td></tr></tbody></table></div>"
      ]
     },
     "metadata": {
      "application/vnd.databricks.v1+output": {
       "addedWidgets": {},
       "aggData": [],
       "aggError": "",
       "aggOverflow": false,
       "aggSchema": [],
       "aggSeriesLimitReached": false,
       "aggType": "",
       "arguments": {},
       "columnCustomDisplayInfos": {},
       "data": [
        [
         "3",
         "Evelyn Johnson",
         "Manchester",
         "UK"
        ],
        [
         "15",
         "Evelyn Martinez",
         "Manchester",
         "UK"
        ],
        [
         "23",
         "Ava Jones",
         "Manchester",
         "UK"
        ],
        [
         "47",
         "Olivia Johnson",
         "Manchester",
         "UK"
        ],
        [
         "56",
         "Evelyn Johnson",
         "Manchester",
         "UK"
        ],
        [
         "68",
         "Harper Miller",
         "Manchester",
         "UK"
        ],
        [
         "69",
         "Olivia Johnson",
         "Manchester",
         "UK"
        ],
        [
         "71",
         "Evelyn Rodriguez",
         "Manchester",
         "UK"
        ],
        [
         "91",
         "Olivia Jones",
         "Manchester",
         "UK"
        ],
        [
         "106",
         "Olivia Davis",
         "Manchester",
         "UK"
        ]
       ],
       "datasetInfos": [],
       "dbfsResultPath": null,
       "isJsonSchema": true,
       "metadata": {},
       "overflow": false,
       "plotOptions": {
        "customPlotOptions": {},
        "displayType": "table",
        "pivotAggregation": null,
        "pivotColumns": null,
        "xColumns": null,
        "yColumns": null
       },
       "removedWidgets": [],
       "schema": [
        {
         "metadata": "{}",
         "name": "user_id",
         "type": "\"string\""
        },
        {
         "metadata": "{}",
         "name": "name",
         "type": "\"string\""
        },
        {
         "metadata": "{}",
         "name": "city",
         "type": "\"string\""
        },
        {
         "metadata": "{}",
         "name": "country",
         "type": "\"string\""
        }
       ],
       "type": "table"
      }
     },
     "output_type": "display_data"
    }
   ],
   "source": [
    "delta_table.toDF().limit(10).display()"
   ]
  }
 ],
 "metadata": {
  "application/vnd.databricks.v1+notebook": {
   "dashboards": [],
   "language": "python",
   "notebookMetadata": {
    "mostRecentlyExecutedCommandWithImplicitDF": {
     "commandId": 249223884034554,
     "dataframes": [
      "_sqldf"
     ]
    },
    "pythonIndentUnit": 4
   },
   "notebookName": "code-in-the-notebook1",
   "widgets": {}
  }
 },
 "nbformat": 4,
 "nbformat_minor": 0
}
