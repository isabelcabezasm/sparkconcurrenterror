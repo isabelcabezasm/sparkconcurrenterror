{
 "cells": [
  {
   "cell_type": "code",
   "execution_count": 0,
   "metadata": {
    "application/vnd.databricks.v1+cell": {
     "cellMetadata": {
      "byteLimit": 2048000,
      "rowLimit": 10000
     },
     "inputWidgets": {},
     "nuid": "434bbe88-fca1-43cc-9d59-2e502e3fc6eb",
     "showTitle": false,
     "title": ""
    }
   },
   "outputs": [],
   "source": [
    "#  ref: https://learn.microsoft.com/en-us/azure/databricks/getting-started/connect-to-azure-storage\n",
    "#  https://learn.microsoft.com/en-us/azure/databricks/security/secrets/secret-scopes"
   ]
  },
  {
   "cell_type": "code",
   "execution_count": 0,
   "metadata": {
    "application/vnd.databricks.v1+cell": {
     "cellMetadata": {
      "byteLimit": 2048000,
      "rowLimit": 10000
     },
     "inputWidgets": {},
     "nuid": "6daeea3a-5820-4984-9b56-13a2e3700b3e",
     "showTitle": false,
     "title": ""
    }
   },
   "outputs": [],
   "source": [
    "from pyspark.sql.types import StructType, StructField, StringType\n",
    "from pyspark.sql import DataFrame\n",
    "from delta import DeltaTable\n",
    "\n",
    "from concurrent_error import main  #python library installed"
   ]
  },
  {
   "cell_type": "code",
   "execution_count": 0,
   "metadata": {
    "application/vnd.databricks.v1+cell": {
     "cellMetadata": {
      "byteLimit": 2048000,
      "rowLimit": 10000
     },
     "inputWidgets": {},
     "nuid": "04c14155-66a3-4c09-a547-8119164991e9",
     "showTitle": false,
     "title": ""
    }
   },
   "outputs": [],
   "source": [
    "service_credential = dbutils.secrets.get(scope=\"scope\",key=\"databricssample\")\n",
    "\n",
    "spark.conf.set(\"fs.azure.account.auth.type.upskilling456.dfs.core.windows.net\", \"OAuth\")\n",
    "spark.conf.set(\"fs.azure.account.oauth.provider.type.upskilling456.dfs.core.windows.net\", \"org.apache.hadoop.fs.azurebfs.oauth2.ClientCredsTokenProvider\")\n",
    "spark.conf.set(\"fs.azure.account.oauth2.client.id.upskilling456.dfs.core.windows.net\", \"027aadd5-2489-4768-93dd-6efc9042130e\")\n",
    "spark.conf.set(\"fs.azure.account.oauth2.client.secret.upskilling456.dfs.core.windows.net\", service_credential)\n",
    "spark.conf.set(\"fs.azure.account.oauth2.client.endpoint.upskilling456.dfs.core.windows.net\", \"https://login.microsoftonline.com/16b3c013-d300-468d-ac64-7eda0820b6d3/oauth2/token\")"
   ]
  },
  {
   "cell_type": "code",
   "execution_count": 0,
   "metadata": {
    "application/vnd.databricks.v1+cell": {
     "cellMetadata": {
      "byteLimit": 2048000,
      "rowLimit": 10000
     },
     "inputWidgets": {},
     "nuid": "5bef0daf-5140-44fa-852a-bb965f19cb51",
     "showTitle": false,
     "title": ""
    }
   },
   "outputs": [],
   "source": [
    "source_path_sample_1 = \"abfss://sample@upskilling456.dfs.core.windows.net/sample1.json\"\n",
    "source_path_sample_2 = \"abfss://sample@upskilling456.dfs.core.windows.net/sample2.json\"\n",
    "\n",
    "target_path = \"abfss://sample@upskilling456.dfs.core.windows.net/delta_table\""
   ]
  },
  {
   "cell_type": "code",
   "execution_count": 0,
   "metadata": {
    "application/vnd.databricks.v1+cell": {
     "cellMetadata": {
      "byteLimit": 2048000,
      "rowLimit": 10000
     },
     "inputWidgets": {},
     "nuid": "131e8ac6-2794-4c24-b9fd-606ff5a681ef",
     "showTitle": false,
     "title": ""
    }
   },
   "outputs": [
    {
     "output_type": "display_data",
     "data": {
      "text/plain": [
       "\u001B[0;31m---------------------------------------------------------------------------\u001B[0m\n",
       "\u001B[0;31mConcurrentAppendException\u001B[0m                 Traceback (most recent call last)\n",
       "File \u001B[0;32m<command-3002631421118054>:1\u001B[0m\n",
       "\u001B[0;32m----> 1\u001B[0m delta_table \u001B[38;5;241m=\u001B[39m \u001B[43mmain\u001B[49m\u001B[38;5;241;43m.\u001B[39;49m\u001B[43mmain_sample\u001B[49m\u001B[43m(\u001B[49m\u001B[43msource_path_sample_1\u001B[49m\u001B[43m,\u001B[49m\u001B[43m \u001B[49m\u001B[43mtarget_path\u001B[49m\u001B[43m)\u001B[49m\n",
       "\n",
       "File \u001B[0;32m/local_disk0/.ephemeral_nfs/cluster_libraries/python/lib/python3.9/site-packages/concurrent_error/main.py:64\u001B[0m, in \u001B[0;36mmain_sample\u001B[0;34m(source_path_sample, target_path)\u001B[0m\n",
       "\u001B[1;32m     49\u001B[0m conditions \u001B[38;5;241m=\u001B[39m (\u001B[38;5;124mf\u001B[39m\u001B[38;5;124m\"\u001B[39m\u001B[38;5;132;01m{\u001B[39;00mtarget_table_alias\u001B[38;5;132;01m}\u001B[39;00m\u001B[38;5;124m.user_id = \u001B[39m\u001B[38;5;132;01m{\u001B[39;00msource_table_alias\u001B[38;5;132;01m}\u001B[39;00m\u001B[38;5;124m.user_id and \u001B[39m\u001B[38;5;130;01m\\\u001B[39;00m\n",
       "\u001B[1;32m     50\u001B[0m \u001B[38;5;124m            \u001B[39m\u001B[38;5;132;01m{\u001B[39;00mtarget_table_alias\u001B[38;5;132;01m}\u001B[39;00m\u001B[38;5;124m.city = \u001B[39m\u001B[38;5;132;01m{\u001B[39;00msource_table_alias\u001B[38;5;132;01m}\u001B[39;00m\u001B[38;5;124m.city and \u001B[39m\u001B[38;5;130;01m\\\u001B[39;00m\n",
       "\u001B[1;32m     51\u001B[0m \u001B[38;5;124m            \u001B[39m\u001B[38;5;132;01m{\u001B[39;00mtarget_table_alias\u001B[38;5;132;01m}\u001B[39;00m\u001B[38;5;124m.country = \u001B[39m\u001B[38;5;124m'\u001B[39m\u001B[38;5;132;01m{\u001B[39;00mcountry\u001B[38;5;132;01m}\u001B[39;00m\u001B[38;5;124m'\u001B[39m\u001B[38;5;124m\"\u001B[39m)\n",
       "\u001B[1;32m     53\u001B[0m delta_merge_builder \u001B[38;5;241m=\u001B[39m (delta_table\n",
       "\u001B[1;32m     54\u001B[0m                        \u001B[38;5;241m.\u001B[39malias(target_table_alias)\n",
       "\u001B[1;32m     55\u001B[0m                        \u001B[38;5;241m.\u001B[39mmerge(\n",
       "\u001B[0;32m   (...)\u001B[0m\n",
       "\u001B[1;32m     61\u001B[0m                        \u001B[38;5;241m.\u001B[39mwhenNotMatchedBySourceDelete()\n",
       "\u001B[1;32m     62\u001B[0m                        )\n",
       "\u001B[0;32m---> 64\u001B[0m \u001B[43mdelta_merge_builder\u001B[49m\u001B[38;5;241;43m.\u001B[39;49m\u001B[43mexecute\u001B[49m\u001B[43m(\u001B[49m\u001B[43m)\u001B[49m\n",
       "\u001B[1;32m     66\u001B[0m \u001B[38;5;28;01mreturn\u001B[39;00m delta_table\n",
       "\n",
       "File \u001B[0;32m/databricks/spark/python/delta/tables.py:1159\u001B[0m, in \u001B[0;36mDeltaMergeBuilder.execute\u001B[0;34m(self)\u001B[0m\n",
       "\u001B[1;32m   1152\u001B[0m \u001B[38;5;129m@since\u001B[39m(\u001B[38;5;241m0.4\u001B[39m)  \u001B[38;5;66;03m# type: ignore[arg-type]\u001B[39;00m\n",
       "\u001B[1;32m   1153\u001B[0m \u001B[38;5;28;01mdef\u001B[39;00m \u001B[38;5;21mexecute\u001B[39m(\u001B[38;5;28mself\u001B[39m) \u001B[38;5;241m-\u001B[39m\u001B[38;5;241m>\u001B[39m \u001B[38;5;28;01mNone\u001B[39;00m:\n",
       "\u001B[1;32m   1154\u001B[0m     \u001B[38;5;124;03m\"\"\"\u001B[39;00m\n",
       "\u001B[1;32m   1155\u001B[0m \u001B[38;5;124;03m    Execute the merge operation based on the built matched and not matched actions.\u001B[39;00m\n",
       "\u001B[1;32m   1156\u001B[0m \n",
       "\u001B[1;32m   1157\u001B[0m \u001B[38;5;124;03m    See :py:class:`~delta.tables.DeltaMergeBuilder` for complete usage details.\u001B[39;00m\n",
       "\u001B[1;32m   1158\u001B[0m \u001B[38;5;124;03m    \"\"\"\u001B[39;00m\n",
       "\u001B[0;32m-> 1159\u001B[0m     \u001B[38;5;28;43mself\u001B[39;49m\u001B[38;5;241;43m.\u001B[39;49m\u001B[43m_jbuilder\u001B[49m\u001B[38;5;241;43m.\u001B[39;49m\u001B[43mexecute\u001B[49m\u001B[43m(\u001B[49m\u001B[43m)\u001B[49m\n",
       "\n",
       "File \u001B[0;32m/databricks/spark/python/lib/py4j-0.10.9.5-src.zip/py4j/java_gateway.py:1321\u001B[0m, in \u001B[0;36mJavaMember.__call__\u001B[0;34m(self, *args)\u001B[0m\n",
       "\u001B[1;32m   1315\u001B[0m command \u001B[38;5;241m=\u001B[39m proto\u001B[38;5;241m.\u001B[39mCALL_COMMAND_NAME \u001B[38;5;241m+\u001B[39m\\\n",
       "\u001B[1;32m   1316\u001B[0m     \u001B[38;5;28mself\u001B[39m\u001B[38;5;241m.\u001B[39mcommand_header \u001B[38;5;241m+\u001B[39m\\\n",
       "\u001B[1;32m   1317\u001B[0m     args_command \u001B[38;5;241m+\u001B[39m\\\n",
       "\u001B[1;32m   1318\u001B[0m     proto\u001B[38;5;241m.\u001B[39mEND_COMMAND_PART\n",
       "\u001B[1;32m   1320\u001B[0m answer \u001B[38;5;241m=\u001B[39m \u001B[38;5;28mself\u001B[39m\u001B[38;5;241m.\u001B[39mgateway_client\u001B[38;5;241m.\u001B[39msend_command(command)\n",
       "\u001B[0;32m-> 1321\u001B[0m return_value \u001B[38;5;241m=\u001B[39m \u001B[43mget_return_value\u001B[49m\u001B[43m(\u001B[49m\n",
       "\u001B[1;32m   1322\u001B[0m \u001B[43m    \u001B[49m\u001B[43manswer\u001B[49m\u001B[43m,\u001B[49m\u001B[43m \u001B[49m\u001B[38;5;28;43mself\u001B[39;49m\u001B[38;5;241;43m.\u001B[39;49m\u001B[43mgateway_client\u001B[49m\u001B[43m,\u001B[49m\u001B[43m \u001B[49m\u001B[38;5;28;43mself\u001B[39;49m\u001B[38;5;241;43m.\u001B[39;49m\u001B[43mtarget_id\u001B[49m\u001B[43m,\u001B[49m\u001B[43m \u001B[49m\u001B[38;5;28;43mself\u001B[39;49m\u001B[38;5;241;43m.\u001B[39;49m\u001B[43mname\u001B[49m\u001B[43m)\u001B[49m\n",
       "\u001B[1;32m   1324\u001B[0m \u001B[38;5;28;01mfor\u001B[39;00m temp_arg \u001B[38;5;129;01min\u001B[39;00m temp_args:\n",
       "\u001B[1;32m   1325\u001B[0m     temp_arg\u001B[38;5;241m.\u001B[39m_detach()\n",
       "\n",
       "File \u001B[0;32m/databricks/spark/python/pyspark/errors/exceptions.py:234\u001B[0m, in \u001B[0;36mcapture_sql_exception.<locals>.deco\u001B[0;34m(*a, **kw)\u001B[0m\n",
       "\u001B[1;32m    230\u001B[0m converted \u001B[38;5;241m=\u001B[39m convert_exception(e\u001B[38;5;241m.\u001B[39mjava_exception)\n",
       "\u001B[1;32m    231\u001B[0m \u001B[38;5;28;01mif\u001B[39;00m \u001B[38;5;129;01mnot\u001B[39;00m \u001B[38;5;28misinstance\u001B[39m(converted, UnknownException):\n",
       "\u001B[1;32m    232\u001B[0m     \u001B[38;5;66;03m# Hide where the exception came from that shows a non-Pythonic\u001B[39;00m\n",
       "\u001B[1;32m    233\u001B[0m     \u001B[38;5;66;03m# JVM exception message.\u001B[39;00m\n",
       "\u001B[0;32m--> 234\u001B[0m     \u001B[38;5;28;01mraise\u001B[39;00m converted \u001B[38;5;28;01mfrom\u001B[39;00m \u001B[38;5;28mNone\u001B[39m\n",
       "\u001B[1;32m    235\u001B[0m \u001B[38;5;28;01melse\u001B[39;00m:\n",
       "\u001B[1;32m    236\u001B[0m     \u001B[38;5;28;01mraise\u001B[39;00m\n",
       "\n",
       "\u001B[0;31mConcurrentAppendException\u001B[0m: Files were added to partition [country=UK, city=Brighton] by a concurrent update. Please try the operation again.\n",
       "Conflicting commit: {\"timestamp\":1694528376129,\"userId\":\"7550813734889310\",\"userName\":\"isacabe@microsoft.com\",\"operation\":\"MERGE\",\"operationParameters\":{\"predicate\":[\"(((user_id#1724 = user_id#1688) AND (city#1726 = city#1690)) AND (country#1727 = UK))\"],\"matchedPredicates\":[{\"actionType\":\"update\"}],\"notMatchedPredicates\":[{\"actionType\":\"insert\"}],\"notMatchedBySourcePredicates\":[{\"actionType\":\"delete\"}]},\"notebook\":{\"notebookId\":\"1677505655680598\"},\"clusterId\":\"0828-132122-bpegu2v5\",\"readVersion\":8,\"isolationLevel\":\"WriteSerializable\",\"isBlindAppend\":false,\"operationMetrics\":{\"numTargetRowsCopied\":\"0\",\"numTargetRowsDeleted\":\"999\",\"numTargetFilesAdded\":\"9\",\"numTargetBytesAdded\":\"11985\",\"numTargetBytesRemoved\":\"16877\",\"numTargetDeletionVectorsAdded\":\"0\",\"numTargetRowsMatchedUpdated\":\"0\",\"executionTimeMs\":\"4722\",\"numTargetRowsInserted\":\"398\",\"numTargetRowsMatchedDeleted\":\"0\",\"scanTimeMs\":\"870\",\"numTargetRowsUpdated\":\"0\",\"numOutputRows\":\"398\",\"numTargetDeletionVectorsRemoved\":\"0\",\"numTargetRowsNotMatchedBySourceUpdated\":\"0\",\"numTargetChangeFilesAdded\":\"0\",\"numSourceRows\":\"398\",\"numTargetFilesRemoved\":\"9\",\"numTargetRowsNotMatchedBySourceDeleted\":\"999\",\"rewriteTimeMs\":\"3314\"},\"engineInfo\":\"Databricks-Runtime/12.2.x-photon-scala2.12\",\"txnId\":\"9f450905-baf5-41b4-9760-7e85a45a6651\"}\n",
       "Refer to https://docs.microsoft.com/azure/databricks/delta/concurrency-control for more details."
      ]
     },
     "metadata": {
      "application/vnd.databricks.v1+output": {
       "arguments": {},
       "data": "\u001B[0;31m---------------------------------------------------------------------------\u001B[0m\n\u001B[0;31mConcurrentAppendException\u001B[0m                 Traceback (most recent call last)\nFile \u001B[0;32m<command-3002631421118054>:1\u001B[0m\n\u001B[0;32m----> 1\u001B[0m delta_table \u001B[38;5;241m=\u001B[39m \u001B[43mmain\u001B[49m\u001B[38;5;241;43m.\u001B[39;49m\u001B[43mmain_sample\u001B[49m\u001B[43m(\u001B[49m\u001B[43msource_path_sample_1\u001B[49m\u001B[43m,\u001B[49m\u001B[43m \u001B[49m\u001B[43mtarget_path\u001B[49m\u001B[43m)\u001B[49m\n\nFile \u001B[0;32m/local_disk0/.ephemeral_nfs/cluster_libraries/python/lib/python3.9/site-packages/concurrent_error/main.py:64\u001B[0m, in \u001B[0;36mmain_sample\u001B[0;34m(source_path_sample, target_path)\u001B[0m\n\u001B[1;32m     49\u001B[0m conditions \u001B[38;5;241m=\u001B[39m (\u001B[38;5;124mf\u001B[39m\u001B[38;5;124m\"\u001B[39m\u001B[38;5;132;01m{\u001B[39;00mtarget_table_alias\u001B[38;5;132;01m}\u001B[39;00m\u001B[38;5;124m.user_id = \u001B[39m\u001B[38;5;132;01m{\u001B[39;00msource_table_alias\u001B[38;5;132;01m}\u001B[39;00m\u001B[38;5;124m.user_id and \u001B[39m\u001B[38;5;130;01m\\\u001B[39;00m\n\u001B[1;32m     50\u001B[0m \u001B[38;5;124m            \u001B[39m\u001B[38;5;132;01m{\u001B[39;00mtarget_table_alias\u001B[38;5;132;01m}\u001B[39;00m\u001B[38;5;124m.city = \u001B[39m\u001B[38;5;132;01m{\u001B[39;00msource_table_alias\u001B[38;5;132;01m}\u001B[39;00m\u001B[38;5;124m.city and \u001B[39m\u001B[38;5;130;01m\\\u001B[39;00m\n\u001B[1;32m     51\u001B[0m \u001B[38;5;124m            \u001B[39m\u001B[38;5;132;01m{\u001B[39;00mtarget_table_alias\u001B[38;5;132;01m}\u001B[39;00m\u001B[38;5;124m.country = \u001B[39m\u001B[38;5;124m'\u001B[39m\u001B[38;5;132;01m{\u001B[39;00mcountry\u001B[38;5;132;01m}\u001B[39;00m\u001B[38;5;124m'\u001B[39m\u001B[38;5;124m\"\u001B[39m)\n\u001B[1;32m     53\u001B[0m delta_merge_builder \u001B[38;5;241m=\u001B[39m (delta_table\n\u001B[1;32m     54\u001B[0m                        \u001B[38;5;241m.\u001B[39malias(target_table_alias)\n\u001B[1;32m     55\u001B[0m                        \u001B[38;5;241m.\u001B[39mmerge(\n\u001B[0;32m   (...)\u001B[0m\n\u001B[1;32m     61\u001B[0m                        \u001B[38;5;241m.\u001B[39mwhenNotMatchedBySourceDelete()\n\u001B[1;32m     62\u001B[0m                        )\n\u001B[0;32m---> 64\u001B[0m \u001B[43mdelta_merge_builder\u001B[49m\u001B[38;5;241;43m.\u001B[39;49m\u001B[43mexecute\u001B[49m\u001B[43m(\u001B[49m\u001B[43m)\u001B[49m\n\u001B[1;32m     66\u001B[0m \u001B[38;5;28;01mreturn\u001B[39;00m delta_table\n\nFile \u001B[0;32m/databricks/spark/python/delta/tables.py:1159\u001B[0m, in \u001B[0;36mDeltaMergeBuilder.execute\u001B[0;34m(self)\u001B[0m\n\u001B[1;32m   1152\u001B[0m \u001B[38;5;129m@since\u001B[39m(\u001B[38;5;241m0.4\u001B[39m)  \u001B[38;5;66;03m# type: ignore[arg-type]\u001B[39;00m\n\u001B[1;32m   1153\u001B[0m \u001B[38;5;28;01mdef\u001B[39;00m \u001B[38;5;21mexecute\u001B[39m(\u001B[38;5;28mself\u001B[39m) \u001B[38;5;241m-\u001B[39m\u001B[38;5;241m>\u001B[39m \u001B[38;5;28;01mNone\u001B[39;00m:\n\u001B[1;32m   1154\u001B[0m     \u001B[38;5;124;03m\"\"\"\u001B[39;00m\n\u001B[1;32m   1155\u001B[0m \u001B[38;5;124;03m    Execute the merge operation based on the built matched and not matched actions.\u001B[39;00m\n\u001B[1;32m   1156\u001B[0m \n\u001B[1;32m   1157\u001B[0m \u001B[38;5;124;03m    See :py:class:`~delta.tables.DeltaMergeBuilder` for complete usage details.\u001B[39;00m\n\u001B[1;32m   1158\u001B[0m \u001B[38;5;124;03m    \"\"\"\u001B[39;00m\n\u001B[0;32m-> 1159\u001B[0m     \u001B[38;5;28;43mself\u001B[39;49m\u001B[38;5;241;43m.\u001B[39;49m\u001B[43m_jbuilder\u001B[49m\u001B[38;5;241;43m.\u001B[39;49m\u001B[43mexecute\u001B[49m\u001B[43m(\u001B[49m\u001B[43m)\u001B[49m\n\nFile \u001B[0;32m/databricks/spark/python/lib/py4j-0.10.9.5-src.zip/py4j/java_gateway.py:1321\u001B[0m, in \u001B[0;36mJavaMember.__call__\u001B[0;34m(self, *args)\u001B[0m\n\u001B[1;32m   1315\u001B[0m command \u001B[38;5;241m=\u001B[39m proto\u001B[38;5;241m.\u001B[39mCALL_COMMAND_NAME \u001B[38;5;241m+\u001B[39m\\\n\u001B[1;32m   1316\u001B[0m     \u001B[38;5;28mself\u001B[39m\u001B[38;5;241m.\u001B[39mcommand_header \u001B[38;5;241m+\u001B[39m\\\n\u001B[1;32m   1317\u001B[0m     args_command \u001B[38;5;241m+\u001B[39m\\\n\u001B[1;32m   1318\u001B[0m     proto\u001B[38;5;241m.\u001B[39mEND_COMMAND_PART\n\u001B[1;32m   1320\u001B[0m answer \u001B[38;5;241m=\u001B[39m \u001B[38;5;28mself\u001B[39m\u001B[38;5;241m.\u001B[39mgateway_client\u001B[38;5;241m.\u001B[39msend_command(command)\n\u001B[0;32m-> 1321\u001B[0m return_value \u001B[38;5;241m=\u001B[39m \u001B[43mget_return_value\u001B[49m\u001B[43m(\u001B[49m\n\u001B[1;32m   1322\u001B[0m \u001B[43m    \u001B[49m\u001B[43manswer\u001B[49m\u001B[43m,\u001B[49m\u001B[43m \u001B[49m\u001B[38;5;28;43mself\u001B[39;49m\u001B[38;5;241;43m.\u001B[39;49m\u001B[43mgateway_client\u001B[49m\u001B[43m,\u001B[49m\u001B[43m \u001B[49m\u001B[38;5;28;43mself\u001B[39;49m\u001B[38;5;241;43m.\u001B[39;49m\u001B[43mtarget_id\u001B[49m\u001B[43m,\u001B[49m\u001B[43m \u001B[49m\u001B[38;5;28;43mself\u001B[39;49m\u001B[38;5;241;43m.\u001B[39;49m\u001B[43mname\u001B[49m\u001B[43m)\u001B[49m\n\u001B[1;32m   1324\u001B[0m \u001B[38;5;28;01mfor\u001B[39;00m temp_arg \u001B[38;5;129;01min\u001B[39;00m temp_args:\n\u001B[1;32m   1325\u001B[0m     temp_arg\u001B[38;5;241m.\u001B[39m_detach()\n\nFile \u001B[0;32m/databricks/spark/python/pyspark/errors/exceptions.py:234\u001B[0m, in \u001B[0;36mcapture_sql_exception.<locals>.deco\u001B[0;34m(*a, **kw)\u001B[0m\n\u001B[1;32m    230\u001B[0m converted \u001B[38;5;241m=\u001B[39m convert_exception(e\u001B[38;5;241m.\u001B[39mjava_exception)\n\u001B[1;32m    231\u001B[0m \u001B[38;5;28;01mif\u001B[39;00m \u001B[38;5;129;01mnot\u001B[39;00m \u001B[38;5;28misinstance\u001B[39m(converted, UnknownException):\n\u001B[1;32m    232\u001B[0m     \u001B[38;5;66;03m# Hide where the exception came from that shows a non-Pythonic\u001B[39;00m\n\u001B[1;32m    233\u001B[0m     \u001B[38;5;66;03m# JVM exception message.\u001B[39;00m\n\u001B[0;32m--> 234\u001B[0m     \u001B[38;5;28;01mraise\u001B[39;00m converted \u001B[38;5;28;01mfrom\u001B[39;00m \u001B[38;5;28mNone\u001B[39m\n\u001B[1;32m    235\u001B[0m \u001B[38;5;28;01melse\u001B[39;00m:\n\u001B[1;32m    236\u001B[0m     \u001B[38;5;28;01mraise\u001B[39;00m\n\n\u001B[0;31mConcurrentAppendException\u001B[0m: Files were added to partition [country=UK, city=Brighton] by a concurrent update. Please try the operation again.\nConflicting commit: {\"timestamp\":1694528376129,\"userId\":\"7550813734889310\",\"userName\":\"isacabe@microsoft.com\",\"operation\":\"MERGE\",\"operationParameters\":{\"predicate\":[\"(((user_id#1724 = user_id#1688) AND (city#1726 = city#1690)) AND (country#1727 = UK))\"],\"matchedPredicates\":[{\"actionType\":\"update\"}],\"notMatchedPredicates\":[{\"actionType\":\"insert\"}],\"notMatchedBySourcePredicates\":[{\"actionType\":\"delete\"}]},\"notebook\":{\"notebookId\":\"1677505655680598\"},\"clusterId\":\"0828-132122-bpegu2v5\",\"readVersion\":8,\"isolationLevel\":\"WriteSerializable\",\"isBlindAppend\":false,\"operationMetrics\":{\"numTargetRowsCopied\":\"0\",\"numTargetRowsDeleted\":\"999\",\"numTargetFilesAdded\":\"9\",\"numTargetBytesAdded\":\"11985\",\"numTargetBytesRemoved\":\"16877\",\"numTargetDeletionVectorsAdded\":\"0\",\"numTargetRowsMatchedUpdated\":\"0\",\"executionTimeMs\":\"4722\",\"numTargetRowsInserted\":\"398\",\"numTargetRowsMatchedDeleted\":\"0\",\"scanTimeMs\":\"870\",\"numTargetRowsUpdated\":\"0\",\"numOutputRows\":\"398\",\"numTargetDeletionVectorsRemoved\":\"0\",\"numTargetRowsNotMatchedBySourceUpdated\":\"0\",\"numTargetChangeFilesAdded\":\"0\",\"numSourceRows\":\"398\",\"numTargetFilesRemoved\":\"9\",\"numTargetRowsNotMatchedBySourceDeleted\":\"999\",\"rewriteTimeMs\":\"3314\"},\"engineInfo\":\"Databricks-Runtime/12.2.x-photon-scala2.12\",\"txnId\":\"9f450905-baf5-41b4-9760-7e85a45a6651\"}\nRefer to https://docs.microsoft.com/azure/databricks/delta/concurrency-control for more details.",
       "errorSummary": "<span class='ansi-red-fg'>ConcurrentAppendException</span>: Files were added to partition [country=UK, city=Brighton] by a concurrent update. Please try the operation again.\nConflicting commit: {\"timestamp\":1694528376129,\"userId\":\"7550813734889310\",\"userName\":\"isacabe@microsoft.com\",\"operation\":\"MERGE\",\"operationParameters\":{\"predicate\":[\"(((user_id#1724 = user_id#1688) AND (city#1726 = city#1690)) AND (country#1727 = UK))\"],\"matchedPredicates\":[{\"actionType\":\"update\"}],\"notMatchedPredicates\":[{\"actionType\":\"insert\"}],\"notMatchedBySourcePredicates\":[{\"actionType\":\"delete\"}]},\"notebook\":{\"notebookId\":\"1677505655680598\"},\"clusterId\":\"0828-132122-bpegu2v5\",\"readVersion\":8,\"isolationLevel\":\"WriteSerializable\",\"isBlindAppend\":false,\"operationMetrics\":{\"numTargetRowsCopied\":\"0\",\"numTargetRowsDeleted\":\"999\",\"numTargetFilesAdded\":\"9\",\"numTargetBytesAdded\":\"11985\",\"numTargetBytesRemoved\":\"16877\",\"numTargetDeletionVectorsAdded\":\"0\",\"numTargetRowsMatchedUpdated\":\"0\",\"executionTimeMs\":\"4722\",\"numTargetRowsInserted\":\"398\",\"numTargetRowsMatchedDeleted\":\"0\",\"scanTimeMs\":\"870\",\"numTargetRowsUpdated\":\"0\",\"numOutputRows\":\"398\",\"numTargetDeletionVectorsRemoved\":\"0\",\"numTargetRowsNotMatchedBySourceUpdated\":\"0\",\"numTargetChangeFilesAdded\":\"0\",\"numSourceRows\":\"398\",\"numTargetFilesRemoved\":\"9\",\"numTargetRowsNotMatchedBySourceDeleted\":\"999\",\"rewriteTimeMs\":\"3314\"},\"engineInfo\":\"Databricks-Runtime/12.2.x-photon-scala2.12\",\"txnId\":\"9f450905-baf5-41b4-9760-7e85a45a6651\"}\nRefer to https://docs.microsoft.com/azure/databricks/delta/concurrency-control for more details.",
       "errorTraceType": "ansi",
       "metadata": {},
       "type": "ipynbError"
      }
     },
     "output_type": "display_data"
    }
   ],
   "source": [
    "delta_table = main.main_sample(source_path_sample_1, target_path)"
   ]
  },
  {
   "cell_type": "code",
   "execution_count": 0,
   "metadata": {
    "application/vnd.databricks.v1+cell": {
     "cellMetadata": {
      "byteLimit": 2048000,
      "rowLimit": 10000
     },
     "inputWidgets": {},
     "nuid": "1f2e705c-8dce-4ca5-ba71-8f923423dc08",
     "showTitle": false,
     "title": ""
    }
   },
   "outputs": [
    {
     "output_type": "display_data",
     "data": {
      "text/html": [
       "<style scoped>\n",
       "  .table-result-container {\n",
       "    max-height: 300px;\n",
       "    overflow: auto;\n",
       "  }\n",
       "  table, th, td {\n",
       "    border: 1px solid black;\n",
       "    border-collapse: collapse;\n",
       "  }\n",
       "  th, td {\n",
       "    padding: 5px;\n",
       "  }\n",
       "  th {\n",
       "    text-align: left;\n",
       "  }\n",
       "</style><div class='table-result-container'><table class='table-result'><thead style='background-color: white'><tr><th>user_id</th><th>name</th><th>city</th><th>country</th></tr></thead><tbody><tr><td>13</td><td>Charlotte Williams</td><td>Cardiff</td><td>UK</td></tr><tr><td>24</td><td>Isabella Miller</td><td>Cardiff</td><td>UK</td></tr><tr><td>26</td><td>Olivia Garcia</td><td>Cardiff</td><td>UK</td></tr><tr><td>30</td><td>Isabella Garcia</td><td>Cardiff</td><td>UK</td></tr><tr><td>48</td><td>Evelyn Martinez</td><td>Cardiff</td><td>UK</td></tr><tr><td>60</td><td>Ava Smith</td><td>Cardiff</td><td>UK</td></tr><tr><td>82</td><td>Evelyn Johnson</td><td>Cardiff</td><td>UK</td></tr><tr><td>84</td><td>Evelyn Rodriguez</td><td>Cardiff</td><td>UK</td></tr><tr><td>99</td><td>Sophia Brown</td><td>Cardiff</td><td>UK</td></tr><tr><td>110</td><td>Evelyn Rodriguez</td><td>Cardiff</td><td>UK</td></tr></tbody></table></div>"
      ]
     },
     "metadata": {
      "application/vnd.databricks.v1+output": {
       "addedWidgets": {},
       "aggData": [],
       "aggError": "",
       "aggOverflow": false,
       "aggSchema": [],
       "aggSeriesLimitReached": false,
       "aggType": "",
       "arguments": {},
       "columnCustomDisplayInfos": {},
       "data": [
        [
         "13",
         "Charlotte Williams",
         "Cardiff",
         "UK"
        ],
        [
         "24",
         "Isabella Miller",
         "Cardiff",
         "UK"
        ],
        [
         "26",
         "Olivia Garcia",
         "Cardiff",
         "UK"
        ],
        [
         "30",
         "Isabella Garcia",
         "Cardiff",
         "UK"
        ],
        [
         "48",
         "Evelyn Martinez",
         "Cardiff",
         "UK"
        ],
        [
         "60",
         "Ava Smith",
         "Cardiff",
         "UK"
        ],
        [
         "82",
         "Evelyn Johnson",
         "Cardiff",
         "UK"
        ],
        [
         "84",
         "Evelyn Rodriguez",
         "Cardiff",
         "UK"
        ],
        [
         "99",
         "Sophia Brown",
         "Cardiff",
         "UK"
        ],
        [
         "110",
         "Evelyn Rodriguez",
         "Cardiff",
         "UK"
        ]
       ],
       "datasetInfos": [],
       "dbfsResultPath": null,
       "isJsonSchema": true,
       "metadata": {},
       "overflow": false,
       "plotOptions": {
        "customPlotOptions": {},
        "displayType": "table",
        "pivotAggregation": null,
        "pivotColumns": null,
        "xColumns": null,
        "yColumns": null
       },
       "removedWidgets": [],
       "schema": [
        {
         "metadata": "{}",
         "name": "user_id",
         "type": "\"string\""
        },
        {
         "metadata": "{}",
         "name": "name",
         "type": "\"string\""
        },
        {
         "metadata": "{}",
         "name": "city",
         "type": "\"string\""
        },
        {
         "metadata": "{}",
         "name": "country",
         "type": "\"string\""
        }
       ],
       "type": "table"
      }
     },
     "output_type": "display_data"
    }
   ],
   "source": [
    "delta_table.toDF().limit(10).display()"
   ]
  }
 ],
 "metadata": {
  "application/vnd.databricks.v1+notebook": {
   "dashboards": [],
   "language": "python",
   "notebookMetadata": {
    "mostRecentlyExecutedCommandWithImplicitDF": {
     "commandId": 249223884034554,
     "dataframes": [
      "_sqldf"
     ]
    },
    "pythonIndentUnit": 4
   },
   "notebookName": "mysampleforthebug",
   "widgets": {}
  }
 },
 "nbformat": 4,
 "nbformat_minor": 0
}
